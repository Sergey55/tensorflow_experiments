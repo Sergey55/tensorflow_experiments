{
 "cells": [
  {
   "cell_type": "code",
   "execution_count": 2,
   "metadata": {},
   "outputs": [
    {
     "name": "stdout",
     "output_type": "stream",
     "text": [
      "CPU times: user 1 µs, sys: 0 ns, total: 1 µs\n",
      "Wall time: 2.86 µs\n"
     ]
    }
   ],
   "source": [
    "%%time\n",
    "\n",
    "filepath = './data/ruwiki.xml.bz2'"
   ]
  },
  {
   "cell_type": "code",
   "execution_count": 3,
   "metadata": {},
   "outputs": [],
   "source": [
    "#!wget 'https://dumps.wikimedia.org/ruwiki/20200701/ruwiki-20200701-pages-articles-multistream.xml.bz2' -O './data/ruwiki.xml.bz2'"
   ]
  },
  {
   "cell_type": "code",
   "execution_count": 4,
   "metadata": {},
   "outputs": [],
   "source": [
    "from gensim.corpora.wikicorpus import WikiCorpus\n",
    "wiki = WikiCorpus(filepath)"
   ]
  },
  {
   "cell_type": "code",
   "execution_count": 5,
   "metadata": {},
   "outputs": [
    {
     "name": "stdout",
     "output_type": "stream",
     "text": [
      "CPU times: user 21min 53s, sys: 30.2 s, total: 22min 23s\n",
      "Wall time: 31min 10s\n"
     ]
    }
   ],
   "source": [
    "%%time\n",
    "\n",
    "from gensim.models.phrases import Phrases, Phraser\n",
    "\n",
    "bigram = Phrases(wiki.get_texts())\n",
    "bigram_transformer = Phraser(bigram)"
   ]
  },
  {
   "cell_type": "code",
   "execution_count": 14,
   "metadata": {},
   "outputs": [
    {
     "name": "stdout",
     "output_type": "stream",
     "text": [
      "CPU times: user 8 µs, sys: 0 ns, total: 8 µs\n",
      "Wall time: 10 µs\n"
     ]
    }
   ],
   "source": [
    "%%time\n",
    "\n",
    "def test_generator_bigram():\n",
    "    for text in wiki.get_texts():\n",
    "        yield text"
   ]
  },
  {
   "cell_type": "code",
   "execution_count": 18,
   "metadata": {},
   "outputs": [
    {
     "name": "stdout",
     "output_type": "stream",
     "text": [
      "CPU times: user 33min 46s, sys: 59.1 s, total: 34min 45s\n",
      "Wall time: 44min 27s\n"
     ]
    },
    {
     "data": {
      "text/plain": [
       "(510695689, 544086779)"
      ]
     },
     "execution_count": 18,
     "metadata": {},
     "output_type": "execute_result"
    }
   ],
   "source": [
    "%%time\n",
    "\n",
    "from gensim.models.word2vec import Word2Vec\n",
    "\n",
    "model =  Word2Vec(size=100, window=7, min_count = 10, workers=8)\n",
    "model.build_vocab(test_generator_bigram())\n",
    "model.train(test_generator_bigram(), total_examples=model.corpus_count, epochs=1)"
   ]
  },
  {
   "cell_type": "code",
   "execution_count": 24,
   "metadata": {},
   "outputs": [
    {
     "name": "stderr",
     "output_type": "stream",
     "text": [
      "/home/sergey/anaconda3/envs/tensorflow115/lib/python3.7/site-packages/ipykernel_launcher.py:1: DeprecationWarning: Call to deprecated `__getitem__` (Method will be removed in 4.0.0, use self.wv.__getitem__() instead).\n",
      "  \"\"\"Entry point for launching an IPython kernel.\n",
      "/home/sergey/anaconda3/envs/tensorflow115/lib/python3.7/site-packages/ipykernel_launcher.py:1: DeprecationWarning: Call to deprecated `similar_by_vector` (Method will be removed in 4.0.0, use self.wv.similar_by_vector() instead).\n",
      "  \"\"\"Entry point for launching an IPython kernel.\n"
     ]
    },
    {
     "data": {
      "text/plain": [
       "[('король', 0.8264540433883667),\n",
       " ('королева', 0.7541210055351257),\n",
       " ('принцесса', 0.6084390878677368),\n",
       " ('короля', 0.5923276543617249),\n",
       " ('королём', 0.5912485718727112),\n",
       " ('львиное', 0.5829436182975769),\n",
       " ('принц', 0.5764358639717102),\n",
       " ('герцогиня', 0.5616426467895508),\n",
       " ('короли', 0.5606095194816589),\n",
       " ('изабелла', 0.5596243143081665)]"
      ]
     },
     "execution_count": 24,
     "metadata": {},
     "output_type": "execute_result"
    }
   ],
   "source": [
    "model.similar_by_vector(model['король'] + model['женщина'] - model['мужчина'])"
   ]
  },
  {
   "cell_type": "code",
   "execution_count": 25,
   "metadata": {},
   "outputs": [
    {
     "name": "stderr",
     "output_type": "stream",
     "text": [
      "/home/sergey/anaconda3/envs/tensorflow115/lib/python3.7/site-packages/ipykernel_launcher.py:1: DeprecationWarning: Call to deprecated `__getitem__` (Method will be removed in 4.0.0, use self.wv.__getitem__() instead).\n",
      "  \"\"\"Entry point for launching an IPython kernel.\n",
      "/home/sergey/anaconda3/envs/tensorflow115/lib/python3.7/site-packages/ipykernel_launcher.py:1: DeprecationWarning: Call to deprecated `similar_by_vector` (Method will be removed in 4.0.0, use self.wv.similar_by_vector() instead).\n",
      "  \"\"\"Entry point for launching an IPython kernel.\n"
     ]
    },
    {
     "data": {
      "text/plain": [
       "[('франция', 0.7757053971290588),\n",
       " ('париж', 0.6983464956283569),\n",
       " ('бельгия', 0.6604726314544678),\n",
       " ('французский', 0.6510217189788818),\n",
       " ('брюссель', 0.6309458613395691),\n",
       " ('жан', 0.6075011491775513),\n",
       " ('пьер', 0.6050252914428711),\n",
       " ('марсель', 0.5990855693817139),\n",
       " ('жак', 0.5955339670181274),\n",
       " ('лион', 0.5953770875930786)]"
      ]
     },
     "execution_count": 25,
     "metadata": {},
     "output_type": "execute_result"
    }
   ],
   "source": [
    "model.similar_by_vector(model['москва'] + model['франция'] - model['россия'])"
   ]
  },
  {
   "cell_type": "code",
   "execution_count": 26,
   "metadata": {},
   "outputs": [
    {
     "name": "stderr",
     "output_type": "stream",
     "text": [
      "/home/sergey/anaconda3/envs/tensorflow115/lib/python3.7/site-packages/ipykernel_launcher.py:1: DeprecationWarning: Call to deprecated `__getitem__` (Method will be removed in 4.0.0, use self.wv.__getitem__() instead).\n",
      "  \"\"\"Entry point for launching an IPython kernel.\n",
      "/home/sergey/anaconda3/envs/tensorflow115/lib/python3.7/site-packages/ipykernel_launcher.py:1: DeprecationWarning: Call to deprecated `similar_by_vector` (Method will be removed in 4.0.0, use self.wv.similar_by_vector() instead).\n",
      "  \"\"\"Entry point for launching an IPython kernel.\n"
     ]
    },
    {
     "data": {
      "text/plain": [
       "[('насмешницы', 0.8213701248168945),\n",
       " ('виндзорские', 0.806973934173584),\n",
       " ('гамлет', 0.7927013635635376),\n",
       " ('шекспир', 0.7878451347351074),\n",
       " ('габлер', 0.7761398553848267),\n",
       " ('отелло', 0.7703779935836792),\n",
       " ('строптивой', 0.7668628692626953),\n",
       " ('гедда', 0.7656395435333252),\n",
       " ('джульетта', 0.7597827315330505),\n",
       " ('фальстаф', 0.7555618286132812)]"
      ]
     },
     "execution_count": 26,
     "metadata": {},
     "output_type": "execute_result"
    }
   ],
   "source": [
    "model.similar_by_vector(model['идиот'] + model['шекспир'] - model['достоевский'])"
   ]
  },
  {
   "cell_type": "code",
   "execution_count": 27,
   "metadata": {},
   "outputs": [
    {
     "name": "stderr",
     "output_type": "stream",
     "text": [
      "/home/sergey/anaconda3/envs/tensorflow115/lib/python3.7/site-packages/ipykernel_launcher.py:1: DeprecationWarning: Call to deprecated `__getitem__` (Method will be removed in 4.0.0, use self.wv.__getitem__() instead).\n",
      "  \"\"\"Entry point for launching an IPython kernel.\n",
      "/home/sergey/anaconda3/envs/tensorflow115/lib/python3.7/site-packages/ipykernel_launcher.py:1: DeprecationWarning: Call to deprecated `similar_by_vector` (Method will be removed in 4.0.0, use self.wv.similar_by_vector() instead).\n",
      "  \"\"\"Entry point for launching an IPython kernel.\n"
     ]
    },
    {
     "data": {
      "text/plain": [
       "[('писательница', 0.7182809114456177),\n",
       " ('математик', 0.6807253956794739),\n",
       " ('поэтесса', 0.6794720888137817),\n",
       " ('художница', 0.6574902534484863),\n",
       " ('переводчица', 0.6496249437332153),\n",
       " ('физик', 0.6327316761016846),\n",
       " ('филолог', 0.6199010610580444),\n",
       " ('учёная', 0.6114235520362854),\n",
       " ('феминистка', 0.5993705987930298),\n",
       " ('мемуаристка', 0.5993231534957886)]"
      ]
     },
     "execution_count": 27,
     "metadata": {},
     "output_type": "execute_result"
    }
   ],
   "source": [
    "model.similar_by_vector(model['математик'] + model['женщина'] - model['мужчина'])"
   ]
  },
  {
   "cell_type": "code",
   "execution_count": 34,
   "metadata": {},
   "outputs": [
    {
     "name": "stderr",
     "output_type": "stream",
     "text": [
      "/home/sergey/anaconda3/envs/tensorflow115/lib/python3.7/site-packages/ipykernel_launcher.py:1: DeprecationWarning: Call to deprecated `most_similar` (Method will be removed in 4.0.0, use self.wv.most_similar() instead).\n",
      "  \"\"\"Entry point for launching an IPython kernel.\n"
     ]
    },
    {
     "data": {
      "text/plain": [
       "[('овца', 0.9101082682609558),\n",
       " ('свинья', 0.893358588218689),\n",
       " ('курица', 0.88786381483078),\n",
       " ('коза', 0.8737870454788208),\n",
       " ('шкура', 0.8728703856468201),\n",
       " ('кошка', 0.8679903149604797),\n",
       " ('лягушка', 0.8526633381843567),\n",
       " ('обезьяна', 0.8383139371871948),\n",
       " ('птичка', 0.8375310897827148),\n",
       " ('крыса', 0.8283272981643677)]"
      ]
     },
     "execution_count": 34,
     "metadata": {},
     "output_type": "execute_result"
    }
   ],
   "source": [
    "model.most_similar('корова')"
   ]
  },
  {
   "cell_type": "code",
   "execution_count": null,
   "metadata": {},
   "outputs": [],
   "source": []
  }
 ],
 "metadata": {
  "kernelspec": {
   "display_name": "Python 3",
   "language": "python",
   "name": "python3"
  },
  "language_info": {
   "codemirror_mode": {
    "name": "ipython",
    "version": 3
   },
   "file_extension": ".py",
   "mimetype": "text/x-python",
   "name": "python",
   "nbconvert_exporter": "python",
   "pygments_lexer": "ipython3",
   "version": "3.7.7"
  }
 },
 "nbformat": 4,
 "nbformat_minor": 4
}
