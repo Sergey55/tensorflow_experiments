{
 "cells": [
  {
   "cell_type": "markdown",
   "metadata": {},
   "source": [
    "# Convolutional Autoencoder using TensorFlow library"
   ]
  },
  {
   "cell_type": "code",
   "execution_count": 1,
   "metadata": {},
   "outputs": [],
   "source": [
    "# Import required packages\n",
    "\n",
    "import sys\n",
    "import numpy as np\n",
    "import tensorflow as tf\n",
    "import matplotlib.pyplot as plt\n",
    "\n",
    "from tensorflow.examples.tutorials.mnist import input_data"
   ]
  },
  {
   "cell_type": "code",
   "execution_count": 2,
   "metadata": {},
   "outputs": [
    {
     "name": "stdout",
     "output_type": "stream",
     "text": [
      "WARNING:tensorflow:From <ipython-input-2-78e3e522be2f>:2: read_data_sets (from tensorflow.contrib.learn.python.learn.datasets.mnist) is deprecated and will be removed in a future version.\n",
      "Instructions for updating:\n",
      "Please use alternatives such as official/mnist/dataset.py from tensorflow/models.\n",
      "WARNING:tensorflow:From /home/sergey/anaconda3/envs/tensorflow115/lib/python3.7/site-packages/tensorflow_core/contrib/learn/python/learn/datasets/mnist.py:260: maybe_download (from tensorflow.contrib.learn.python.learn.datasets.base) is deprecated and will be removed in a future version.\n",
      "Instructions for updating:\n",
      "Please write your own downloading logic.\n",
      "WARNING:tensorflow:From /home/sergey/anaconda3/envs/tensorflow115/lib/python3.7/site-packages/tensorflow_core/contrib/learn/python/learn/datasets/mnist.py:262: extract_images (from tensorflow.contrib.learn.python.learn.datasets.mnist) is deprecated and will be removed in a future version.\n",
      "Instructions for updating:\n",
      "Please use tf.data to implement this functionality.\n",
      "Extracting MNIST_data/train-images-idx3-ubyte.gz\n",
      "WARNING:tensorflow:From /home/sergey/anaconda3/envs/tensorflow115/lib/python3.7/site-packages/tensorflow_core/contrib/learn/python/learn/datasets/mnist.py:267: extract_labels (from tensorflow.contrib.learn.python.learn.datasets.mnist) is deprecated and will be removed in a future version.\n",
      "Instructions for updating:\n",
      "Please use tf.data to implement this functionality.\n",
      "Extracting MNIST_data/train-labels-idx1-ubyte.gz\n",
      "WARNING:tensorflow:From /home/sergey/anaconda3/envs/tensorflow115/lib/python3.7/site-packages/tensorflow_core/contrib/learn/python/learn/datasets/mnist.py:110: dense_to_one_hot (from tensorflow.contrib.learn.python.learn.datasets.mnist) is deprecated and will be removed in a future version.\n",
      "Instructions for updating:\n",
      "Please use tf.one_hot on tensors.\n",
      "Extracting MNIST_data/t10k-images-idx3-ubyte.gz\n",
      "Extracting MNIST_data/t10k-labels-idx1-ubyte.gz\n",
      "WARNING:tensorflow:From /home/sergey/anaconda3/envs/tensorflow115/lib/python3.7/site-packages/tensorflow_core/contrib/learn/python/learn/datasets/mnist.py:290: DataSet.__init__ (from tensorflow.contrib.learn.python.learn.datasets.mnist) is deprecated and will be removed in a future version.\n",
      "Instructions for updating:\n",
      "Please use alternatives such as official/mnist/dataset.py from tensorflow/models.\n"
     ]
    }
   ],
   "source": [
    "# Load the data\n",
    "mnist = input_data.read_data_sets(\"MNIST_data/\", one_hot=True)"
   ]
  },
  {
   "cell_type": "code",
   "execution_count": 3,
   "metadata": {},
   "outputs": [],
   "source": [
    "batch_size = 64\n",
    "latent_space = 128\n",
    "learning_rate = 0.1\n",
    "\n",
    "n_epochs = 100"
   ]
  },
  {
   "cell_type": "code",
   "execution_count": 4,
   "metadata": {},
   "outputs": [],
   "source": [
    "# Let's define weights and bias values for the model\n",
    "\n",
    "ae_weights = {\n",
    "    \"encoder_conv\": tf.Variable(\n",
    "        tf.truncated_normal([5, 5, 1, 4], stddev=0.1)),\n",
    "    \"encoder_bias\": tf.Variable(\n",
    "        tf.truncated_normal([4], stddev=0.1)),\n",
    "    \"decoder_deconv\": tf.Variable(\n",
    "        tf.truncated_normal([5, 5, 1, 4], stddev=0.1)),\n",
    "    \"decoder_bias\": tf.Variable(\n",
    "        tf.truncated_normal([1], stddev=0.1))\n",
    "}"
   ]
  },
  {
   "cell_type": "code",
   "execution_count": 5,
   "metadata": {},
   "outputs": [],
   "source": [
    "input_shape = [batch_size, 28, 28, 1]"
   ]
  },
  {
   "cell_type": "code",
   "execution_count": 6,
   "metadata": {},
   "outputs": [],
   "source": [
    "ae_input = tf.placeholder(tf.float32, [batch_size, 784])\n",
    "\n",
    "data = tf.reshape(ae_input, [-1, 28, 28, 1])\n",
    "\n",
    "hidden = tf.nn.sigmoid(tf.nn.conv2d(data, \n",
    "                                    ae_weights[\"encoder_conv\"], \n",
    "                                    strides=[1, 2, 2, 1], \n",
    "                                    padding=\"SAME\") + ae_weights[\"encoder_bias\"])\n",
    "\n",
    "visible_logits = tf.nn.conv2d_transpose(hidden,\n",
    "                                       ae_weights[\"decoder_deconv\"],\n",
    "                                       input_shape,\n",
    "                                       strides=[1, 2, 2, 1],\n",
    "                                       padding=\"SAME\") + ae_weights[\"decoder_bias\"]\n",
    "\n",
    "visible = tf.nn.sigmoid(visible_logits)"
   ]
  },
  {
   "cell_type": "code",
   "execution_count": 7,
   "metadata": {},
   "outputs": [
    {
     "name": "stdout",
     "output_type": "stream",
     "text": [
      "WARNING:tensorflow:From /home/sergey/anaconda3/envs/tensorflow115/lib/python3.7/site-packages/tensorflow_core/python/ops/nn_impl.py:183: where (from tensorflow.python.ops.array_ops) is deprecated and will be removed in a future version.\n",
      "Instructions for updating:\n",
      "Use tf.where in 2.0, which has the same broadcast rule as np.where\n",
      "WARNING:tensorflow:From /home/sergey/anaconda3/envs/tensorflow115/lib/python3.7/site-packages/tensorflow_core/python/training/adagrad.py:76: calling Constant.__init__ (from tensorflow.python.ops.init_ops) with dtype is deprecated and will be removed in a future version.\n",
      "Instructions for updating:\n",
      "Call initializer instance with the dtype argument instead of passing it to the constructor\n"
     ]
    }
   ],
   "source": [
    "optimizer = tf.train.AdagradOptimizer(learning_rate)\n",
    "\n",
    "cost = tf.reduce_mean(\n",
    "    tf.nn.sigmoid_cross_entropy_with_logits(logits=visible_logits, labels=data))\n",
    "\n",
    "conv_op = optimizer.minimize(cost)"
   ]
  },
  {
   "cell_type": "code",
   "execution_count": 8,
   "metadata": {},
   "outputs": [],
   "source": [
    "n_batches = mnist.train.num_examples // batch_size"
   ]
  },
  {
   "cell_type": "code",
   "execution_count": 9,
   "metadata": {},
   "outputs": [],
   "source": [
    "original_images, _ = mnist.test.next_batch(batch_size)"
   ]
  },
  {
   "cell_type": "code",
   "execution_count": 10,
   "metadata": {
    "scrolled": true
   },
   "outputs": [],
   "source": [
    "def train(op, cost, visible, n_epochs = 100):\n",
    "    training_losses = []\n",
    "\n",
    "    with tf.Session() as sess:\n",
    "        sess.run(tf.global_variables_initializer())\n",
    "    \n",
    "        for epoch in range(1, n_epochs + 1):\n",
    "        \n",
    "            print(f\"Epoch {epoch}/{n_epochs}\")\n",
    "        \n",
    "            current_training_loss = 0\n",
    "            step = 0\n",
    "        \n",
    "            for batch in range(n_batches):\n",
    "                x_batch, _ = mnist.train.next_batch(batch_size)\n",
    "\n",
    "                step += 1\n",
    "                \n",
    "                _, loss = sess.run([op, cost], feed_dict={ae_input: x_batch})\n",
    "                current_training_loss += loss\n",
    "            \n",
    "                sys.stdout.write(f\"\\r\\tDone: {step / n_batches * 100:0.1f}%, Loss: {(current_training_loss / step):2.4f}\")\n",
    "        \n",
    "            training_losses.append(current_training_loss / n_batches)\n",
    "        \n",
    "            print()\n",
    "\n",
    "        result = sess.run(visible, feed_dict={ae_input: original_images})\n",
    "        \n",
    "    return result, training_losses"
   ]
  },
  {
   "cell_type": "code",
   "execution_count": 11,
   "metadata": {
    "scrolled": true
   },
   "outputs": [
    {
     "name": "stdout",
     "output_type": "stream",
     "text": [
      "Epoch 1/10\n",
      "\tDone: 100.0%, Loss: 0.1983\n",
      "Epoch 2/10\n",
      "\tDone: 100.0%, Loss: 0.1188\n",
      "Epoch 3/10\n",
      "\tDone: 100.0%, Loss: 0.1018\n",
      "Epoch 4/10\n",
      "\tDone: 100.0%, Loss: 0.0926\n",
      "Epoch 5/10\n",
      "\tDone: 100.0%, Loss: 0.0873\n",
      "Epoch 6/10\n",
      "\tDone: 100.0%, Loss: 0.0839\n",
      "Epoch 7/10\n",
      "\tDone: 100.0%, Loss: 0.0815\n",
      "Epoch 8/10\n",
      "\tDone: 100.0%, Loss: 0.0796\n",
      "Epoch 9/10\n",
      "\tDone: 100.0%, Loss: 0.0781\n",
      "Epoch 10/10\n",
      "\tDone: 100.0%, Loss: 0.0769\n"
     ]
    }
   ],
   "source": [
    "result_images, losses = train(conv_op, cost, visible, n_epochs=10)"
   ]
  },
  {
   "cell_type": "code",
   "execution_count": 12,
   "metadata": {},
   "outputs": [
    {
     "data": {
      "text/plain": [
       "[<matplotlib.lines.Line2D at 0x7f2a84089a10>]"
      ]
     },
     "execution_count": 12,
     "metadata": {},
     "output_type": "execute_result"
    },
    {
     "data": {
      "image/png": "[encoded data removed]",
      "text/plain": [
       "<Figure size 432x288 with 1 Axes>"
      ]
     },
     "metadata": {
      "needs_background": "light"
     },
     "output_type": "display_data"
    }
   ],
   "source": [
    "# Let's check how training loss looks\n",
    "plt.plot(losses)"
   ]
  },
  {
   "cell_type": "code",
   "execution_count": 13,
   "metadata": {},
   "outputs": [],
   "source": [
    "def plot_imgs(original_images, result_images):\n",
    "    # Plot the first ten input images and ten reconstructed images\n",
    "    # Input images on top, reconstructed on bottom\n",
    "    fig, axes = plt.subplots(nrows=2, ncols=10, sharex=True, sharey=True, figsize=(25, 4))\n",
    "\n",
    "    for images, row in zip([original_images, result_images], axes):\n",
    "        for img, ax in zip(images, row):\n",
    "            ax.imshow(img.reshape(-1, 28), cmap='gray')\n",
    "            ax.get_xaxis().set_visible(False)\n",
    "            ax.get_yaxis().set_visible(False)        "
   ]
  },
  {
   "cell_type": "code",
   "execution_count": 14,
   "metadata": {},
   "outputs": [
    {
     "data": {
      "image/png": "[encoded data removed]",
      "text/plain": [
       "<Figure size 1800x288 with 20 Axes>"
      ]
     },
     "metadata": {
      "needs_background": "light"
     },
     "output_type": "display_data"
    }
   ],
   "source": [
    "plot_imgs(original_images, result_images)"
   ]
  },
  {
   "cell_type": "markdown",
   "metadata": {},
   "source": [
    "# Deeper autoencoder\n",
    "\n",
    "Let's try to implement autoencoder which uses more hidden layers"
   ]
  },
  {
   "cell_type": "code",
   "execution_count": 20,
   "metadata": {},
   "outputs": [],
   "source": [
    "deep_encoder_weights = {\n",
    "    'encoder_input_conv': tf.Variable(\n",
    "        tf.truncated_normal([5, 5, 1, 4], stddev=0.1)),\n",
    "    'encoder_input_bias': tf.Variable(\n",
    "        tf.truncated_normal([4], stddev=0.1)),\n",
    "    'encoder_hidden_conv': tf.Variable(\n",
    "        tf.truncated_normal([5, 5, 4, 8], stddev=0.1)),\n",
    "    'encoder_hidden_bias': tf.Variable(\n",
    "        tf.truncated_normal([8], stddev=0.1)),\n",
    "    'decoder_hidden_deconv': tf.Variable(\n",
    "        tf.truncated_normal([5, 5, 4, 8], stddev=0.1)),\n",
    "    'decoder_hidden_bias': tf.Variable(\n",
    "        tf.truncated_normal([4], stddev=0.1)),\n",
    "    'decoder_output_deconv': tf.Variable(\n",
    "        tf.truncated_normal([5, 5, 1, 4], stddev=0.1)),\n",
    "    'deconv_output_bias': tf.Variable(\n",
    "        tf.truncated_normal([1], stddev=0.1))\n",
    "}"
   ]
  },
  {
   "cell_type": "code",
   "execution_count": 25,
   "metadata": {},
   "outputs": [],
   "source": [
    "ae_input = tf.placeholder(tf.float32, [batch_size, 784])\n",
    "\n",
    "data = tf.reshape(ae_input, [-1, 28, 28, 1])\n",
    "\n",
    "encoder_input_out = tf.nn.leaky_relu(\n",
    "    tf.nn.conv2d(data,\n",
    "                 deep_encoder_weights['encoder_input_conv'],\n",
    "                 strides=[1, 2, 2, 1],\n",
    "                 padding='SAME') + deep_encoder_weights['encoder_input_bias'])\n",
    "    \n",
    "encoder_hidden_out = tf.nn.leaky_relu(\n",
    "    tf.nn.conv2d(encoder_input_out,\n",
    "                deep_encoder_weights['encoder_hidden_conv'],\n",
    "                strides=[1, 2, 2, 1],\n",
    "                padding='SAME') + deep_encoder_weights['encoder_hidden_bias'])\n",
    "\n",
    "decoder_hidden_out = tf.nn.leaky_relu(\n",
    "    tf.nn.conv2d_transpose(encoder_hidden_out,\n",
    "                           deep_encoder_weights['decoder_hidden_deconv'],\n",
    "                           [batch_size, 14, 14, 4], #Shape\n",
    "                           strides=[1, 2, 2, 1],\n",
    "                           padding='SAME') + deep_encoder_weights['decoder_hidden_bias'])\n",
    "\n",
    "decoder_output = tf.nn.sigmoid(\n",
    "    tf.nn.conv2d_transpose(decoder_hidden_out,\n",
    "                          deep_encoder_weights['decoder_output_deconv'],\n",
    "                          input_shape,\n",
    "                          strides=[1, 2, 2, 1],\n",
    "                          padding='SAME') + deep_encoder_weights['deconv_output_bias'])"
   ]
  },
  {
   "cell_type": "code",
   "execution_count": 26,
   "metadata": {},
   "outputs": [
    {
     "name": "stdout",
     "output_type": "stream",
     "text": [
      "Epoch 1/10\n",
      "\tDone: 100.0%, Loss: 0.0416\n",
      "Epoch 2/10\n",
      "\tDone: 100.0%, Loss: 0.0041\n",
      "Epoch 3/10\n",
      "\tDone: 100.0%, Loss: 0.0028\n",
      "Epoch 4/10\n",
      "\tDone: 100.0%, Loss: 0.0024\n",
      "Epoch 5/10\n",
      "\tDone: 100.0%, Loss: 0.0022\n",
      "Epoch 6/10\n",
      "\tDone: 100.0%, Loss: 0.0020\n",
      "Epoch 7/10\n",
      "\tDone: 100.0%, Loss: 0.0019\n",
      "Epoch 8/10\n",
      "\tDone: 100.0%, Loss: 0.0018\n",
      "Epoch 9/10\n",
      "\tDone: 100.0%, Loss: 0.0018\n",
      "Epoch 10/10\n",
      "\tDone: 100.0%, Loss: 0.0017\n"
     ]
    }
   ],
   "source": [
    "optimizer_adam = tf.train.AdamOptimizer()\n",
    "\n",
    "deep_cost = tf.reduce_mean(tf.squared_difference(decoder_output, data))\n",
    "\n",
    "deep_ae_op = optimizer_adam.minimize(deep_cost)\n",
    "\n",
    "result_images, losses = train(deep_ae_op, deep_cost, decoder_output, n_epochs=10)"
   ]
  },
  {
   "cell_type": "code",
   "execution_count": 27,
   "metadata": {},
   "outputs": [
    {
     "data": {
      "text/plain": [
       "[<matplotlib.lines.Line2D at 0x7f2a7c395ad0>]"
      ]
     },
     "execution_count": 27,
     "metadata": {},
     "output_type": "execute_result"
    },
    {
     "data": {
      "image/png": "[encoded data removed]",
      "text/plain": [
       "<Figure size 432x288 with 1 Axes>"
      ]
     },
     "metadata": {
      "needs_background": "light"
     },
     "output_type": "display_data"
    }
   ],
   "source": [
    "# Let's check how training loss looks\n",
    "plt.plot(losses)"
   ]
  },
  {
   "cell_type": "code",
   "execution_count": 28,
   "metadata": {},
   "outputs": [
    {
     "data": {
      "image/png": "[encoded data removed]",
      "text/plain": [
       "<Figure size 1800x288 with 20 Axes>"
      ]
     },
     "metadata": {
      "needs_background": "light"
     },
     "output_type": "display_data"
    }
   ],
   "source": [
    "plot_imgs(original_images, result_images)"
   ]
  },
  {
   "cell_type": "code",
   "execution_count": null,
   "metadata": {},
   "outputs": [],
   "source": []
  }
 ],
 "metadata": {
  "kernelspec": {
   "display_name": "Python 3",
   "language": "python",
   "name": "python3"
  },
  "language_info": {
   "codemirror_mode": {
    "name": "ipython",
    "version": 3
   },
   "file_extension": ".py",
   "mimetype": "text/x-python",
   "name": "python",
   "nbconvert_exporter": "python",
   "pygments_lexer": "ipython3",
   "version": "3.7.7"
  }
 },
 "nbformat": 4,
 "nbformat_minor": 4
}
